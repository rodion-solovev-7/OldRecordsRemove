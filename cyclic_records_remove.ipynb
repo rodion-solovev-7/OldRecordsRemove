{
 "cells": [
  {
   "cell_type": "markdown",
   "id": "fb78f43a",
   "metadata": {},
   "source": [
    "# Автоудаление старых записей при недостатке места"
   ]
  },
  {
   "cell_type": "markdown",
   "id": "b959af7b",
   "metadata": {},
   "source": [
    "Симуляция циклической записи на диск - циклическое очищение записей из папки"
   ]
  },
  {
   "cell_type": "code",
   "execution_count": 2,
   "id": "f8c3794e",
   "metadata": {
    "ExecuteTime": {
     "end_time": "2021-10-13T18:29:11.500687Z",
     "start_time": "2021-10-13T18:29:11.384721Z"
    }
   },
   "outputs": [],
   "source": [
    "!mkdir \"/home/rodion/VIDEOREPO\""
   ]
  },
  {
   "cell_type": "code",
   "execution_count": 3,
   "id": "c97257c0",
   "metadata": {
    "ExecuteTime": {
     "end_time": "2021-10-13T18:29:13.384332Z",
     "start_time": "2021-10-13T18:29:13.378666Z"
    }
   },
   "outputs": [],
   "source": [
    "\"\"\"\n",
    "Скрипт для автоматического удаления устаревших видеозаписей.\n",
    "При запуске проверяет свободное место на диске и, если его мало,\n",
    "запускает удаление самых старых записей.\n",
    "\"\"\"\n",
    "\n",
    "# ПАПКА С ВИДЕОЗАПИСЯМИ С РАЗНЫХ КАМЕР\n",
    "WORKDIR = \"/home/rodion/VIDEOREPO/\"\n",
    "# МИНИМАЛЬНЫЙ ПРОЦЕНТ СВОБОДНОЙ ПАМЯТИ\n",
    "# (если свободной памяти меньше, то будет начинаться очистка)\n",
    "FREE_MEM_CRITICAL_PERCENT = 0.15\n",
    "# ОЖИДАЕМЫЙ ПРОЦЕНТ СВОБОДНОЙ ПАМЯТИ ПОСЛЕ ОЧИСТКИ\n",
    "# (скрипт будет удалять файлы пока не достигнет\n",
    "# этого процента или файлы не кончатся)\n",
    "FREE_MEM_AFTER_CLEAR_PERCENT = 0.20\n",
    "# ПУТЬ К ЛОГ-ФАЙЛУ\n",
    "# (туда будут писаться сообщения от скрипта)\n",
    "PATH2LOG = \"/home/rodion/VIDEOREPO/video_autoremove.log\"\n",
    "\n",
    "import logging                  # nopep8\n",
    "import os                       # nopep8\n",
    "import re                       # nopep8\n",
    "import shutil                   # nopep8\n",
    "from pathlib import Path        # nopep8\n",
    "from typing import Union        # nopep8\n",
    "\n",
    "\n",
    "_formatter = logging.Formatter('%(asctime)s  %(levelname)s: %(message)s')\n",
    "_file_handler = logging.FileHandler(PATH2LOG)\n",
    "_file_handler.setLevel(logging.INFO)\n",
    "_file_handler.setFormatter(_formatter)\n",
    "_console_handler = logging.StreamHandler()\n",
    "_console_handler.setLevel(logging.INFO)\n",
    "_console_handler.setFormatter(_formatter)\n",
    "\n",
    "logger = logging.getLogger(__name__)\n",
    "logger.setLevel(logging.DEBUG)\n",
    "logger.addHandler(_file_handler)\n",
    "logger.addHandler(_console_handler)"
   ]
  },
  {
   "cell_type": "code",
   "execution_count": 4,
   "id": "b027d6ae",
   "metadata": {
    "ExecuteTime": {
     "end_time": "2021-10-13T18:29:19.719178Z",
     "start_time": "2021-10-13T18:29:19.708096Z"
    }
   },
   "outputs": [],
   "source": [
    "def recursive_get_subdirs(target: Union[str, os.PathLike]) -> list[Path]:\n",
    "    \"\"\"Получает все дочерние директории для выбранной директории\"\"\"\n",
    "    subdirs = (Path(root).absolute() for root, _, _ in os.walk(Path(target)))\n",
    "    subdirs = list(set(subdirs))\n",
    "    return subdirs\n",
    "\n",
    "\n",
    "def find_all_video_folders(\n",
    "        target: Union[str, os.PathLike],\n",
    "        regex_pattern: str,\n",
    ") -> list[Path]:\n",
    "    \"\"\"Выбирает все папки, по определённому паттерну\"\"\"\n",
    "    target = Path(target).absolute()\n",
    "    dirs = recursive_get_subdirs(target)\n",
    "    regex = re.compile(regex_pattern)\n",
    "    dirs = [d for d in dirs if regex.findall(str(d))]\n",
    "    return dirs\n",
    "\n",
    "\n",
    "def get_free_memory_percent(workdir: Union[str, os.PathLike]) -> float:\n",
    "    \"\"\"\n",
    "    Возвращает занятость памяти в диапазоне [0.0; 1.0].\n",
    "\n",
    "    Здесь 1.0 - 100% памяти свободно, 0.0 - вся память занята.\n",
    "    \"\"\"\n",
    "    total, used, free = shutil.disk_usage(workdir)\n",
    "    return free / total\n",
    "\n",
    "\n",
    "def remove_record_directory(\n",
    "        path: Union[str, os.PathLike],\n",
    "        autoremove_empty_parent: bool = True,\n",
    ") -> None:\n",
    "    \"\"\"\n",
    "    Удаляет директорию и всё её содержимое.\n",
    "    Если второй аргумент установлен в True, то удаляет\n",
    "    родительскую папку, если она оказывается пуста.\n",
    "    \"\"\"\n",
    "    folder = Path(path)\n",
    "    shutil.rmtree(folder)\n",
    "    logger.info(f\"Удалена папка с записями: {folder}\")\n",
    "    if autoremove_empty_parent and len(os.listdir(folder.parent)) == 0:\n",
    "        shutil.rmtree(folder.parent)\n",
    "        logger.info(f\"Удалена пустая родительская папка: {folder.parent}\")\n",
    "\n",
    "\n",
    "def main():\n",
    "    logger.info(\"Скрипт запущен\")\n",
    "    workdir = Path(WORKDIR).absolute()\n",
    "    logger.info(f\"Рабочая директория: {workdir}\")\n",
    "\n",
    "    if not os.path.exists(workdir) or not workdir.is_dir():\n",
    "        logger.error(\"Директория не найдена! Завершение\")\n",
    "        return\n",
    "\n",
    "    video_folder_regex = r\".*\\d+/\\d{4}-\\d{2}-\\d{2}/\\d+$\"\n",
    "    videos = find_all_video_folders(WORKDIR, video_folder_regex)\n",
    "    videos.sort(\n",
    "        reverse=True,\n",
    "        key=lambda d: int(re.findall(r\"/(\\d+)$\", str(d))[0])\n",
    "    )\n",
    "    logger.info(f\"Найдено {len(videos)} папок с записями\")\n",
    "    logger.info(f\"Свободно {100 * get_free_memory_percent(workdir):.1f}% памяти\")\n",
    "    logger.info(f\"Пороговые значения для свободной памяти: \"\n",
    "                f\"{100 * FREE_MEM_CRITICAL_PERCENT:.1f}% \"\n",
    "                f\"{100 * FREE_MEM_AFTER_CLEAR_PERCENT:.1f}% \")\n",
    "\n",
    "    if get_free_memory_percent(workdir) < FREE_MEM_CRITICAL_PERCENT:\n",
    "        logger.info(\"Очистка начата\")\n",
    "        while len(videos) > 0 and get_free_memory_percent(workdir) < FREE_MEM_AFTER_CLEAR_PERCENT:\n",
    "            # свободной памяти меньше определённого процента\n",
    "            # удаляем по 1 папке, пока не станет лучше или папки не кончатся\n",
    "            video_folder = videos.pop()\n",
    "            remove_record_directory(video_folder)\n",
    "\n",
    "        if get_free_memory_percent(workdir) < FREE_MEM_AFTER_CLEAR_PERCENT:\n",
    "            logger.warning(\"Очистка завершена, однако не было освобождено \"\n",
    "                           \"достаточно памяти - она потенциально занята чем-то другим\")\n",
    "\n",
    "        logger.info(\"Очистка закончена\")\n",
    "\n",
    "    logger.info(f\"Свободно {100 * get_free_memory_percent(workdir):.1f}% памяти\")\n",
    "    logger.info(\"Скрипт завершен\")"
   ]
  },
  {
   "cell_type": "code",
   "execution_count": 7,
   "id": "516a1a05",
   "metadata": {
    "ExecuteTime": {
     "end_time": "2021-10-13T18:39:28.563733Z",
     "start_time": "2021-10-13T18:39:28.519867Z"
    }
   },
   "outputs": [
    {
     "name": "stderr",
     "output_type": "stream",
     "text": [
      "2021-10-13 23:39:28,523  INFO: Скрипт запущен\n",
      "2021-10-13 23:39:28,527  INFO: Рабочая директория: /home/rodion/VIDEOREPO\n",
      "2021-10-13 23:39:28,531  INFO: Найдено 20 папок с записями\n",
      "2021-10-13 23:39:28,532  INFO: Свободно 13.5% памяти\n",
      "2021-10-13 23:39:28,532  INFO: Пороговые значения для свободной памяти: 15.0% 20.0% \n",
      "2021-10-13 23:39:28,533  INFO: Очистка начата\n",
      "2021-10-13 23:39:28,533  INFO: Удалена папка с записями: /home/rodion/VIDEOREPO/00/0010-00-01/00\n",
      "2021-10-13 23:39:28,534  INFO: Удалена пустая родительская папка: /home/rodion/VIDEOREPO/00/0010-00-01\n",
      "2021-10-13 23:39:28,535  INFO: Удалена папка с записями: /home/rodion/VIDEOREPO/01/0001-00-01/00\n",
      "2021-10-13 23:39:28,535  INFO: Удалена пустая родительская папка: /home/rodion/VIDEOREPO/01/0001-00-01\n",
      "2021-10-13 23:39:28,536  INFO: Удалена папка с записями: /home/rodion/VIDEOREPO/00/0001-11-10/00\n",
      "2021-10-13 23:39:28,536  INFO: Удалена пустая родительская папка: /home/rodion/VIDEOREPO/00/0001-11-10\n",
      "2021-10-13 23:39:28,537  INFO: Удалена папка с записями: /home/rodion/VIDEOREPO/00/0000-11-01/00\n",
      "2021-10-13 23:39:28,537  INFO: Удалена пустая родительская папка: /home/rodion/VIDEOREPO/00/0000-11-01\n",
      "2021-10-13 23:39:28,538  INFO: Удалена папка с записями: /home/rodion/VIDEOREPO/01/1010-01-11/00\n",
      "2021-10-13 23:39:28,539  INFO: Удалена пустая родительская папка: /home/rodion/VIDEOREPO/01/1010-01-11\n",
      "2021-10-13 23:39:28,539  INFO: Удалена папка с записями: /home/rodion/VIDEOREPO/01/0101-10-00/00\n",
      "2021-10-13 23:39:28,540  INFO: Удалена пустая родительская папка: /home/rodion/VIDEOREPO/01/0101-10-00\n",
      "2021-10-13 23:39:28,540  INFO: Удалена папка с записями: /home/rodion/VIDEOREPO/01/0010-11-10/00\n",
      "2021-10-13 23:39:28,541  INFO: Удалена пустая родительская папка: /home/rodion/VIDEOREPO/01/0010-11-10\n",
      "2021-10-13 23:39:28,542  INFO: Удалена папка с записями: /home/rodion/VIDEOREPO/01/0011-01-00/00\n",
      "2021-10-13 23:39:28,542  INFO: Удалена пустая родительская папка: /home/rodion/VIDEOREPO/01/0011-01-00\n",
      "2021-10-13 23:39:28,543  INFO: Удалена папка с записями: /home/rodion/VIDEOREPO/01/0000-10-01/00\n",
      "2021-10-13 23:39:28,543  INFO: Удалена пустая родительская папка: /home/rodion/VIDEOREPO/01/0000-10-01\n",
      "2021-10-13 23:39:28,544  INFO: Удалена папка с записями: /home/rodion/VIDEOREPO/10/0000-01-10/01\n",
      "2021-10-13 23:39:28,545  INFO: Удалена пустая родительская папка: /home/rodion/VIDEOREPO/10/0000-01-10\n",
      "2021-10-13 23:39:28,545  INFO: Удалена папка с записями: /home/rodion/VIDEOREPO/11/1000-01-10/10\n",
      "2021-10-13 23:39:28,546  INFO: Удалена пустая родительская папка: /home/rodion/VIDEOREPO/11/1000-01-10\n",
      "2021-10-13 23:39:28,547  INFO: Удалена папка с записями: /home/rodion/VIDEOREPO/11/1100-11-10/10\n",
      "2021-10-13 23:39:28,547  INFO: Удалена пустая родительская папка: /home/rodion/VIDEOREPO/11/1100-11-10\n",
      "2021-10-13 23:39:28,548  INFO: Удалена папка с записями: /home/rodion/VIDEOREPO/01/1101-11-11/10\n",
      "2021-10-13 23:39:28,549  INFO: Удалена пустая родительская папка: /home/rodion/VIDEOREPO/01/1101-11-11\n",
      "2021-10-13 23:39:28,550  INFO: Удалена папка с записями: /home/rodion/VIDEOREPO/00/0100-01-00/10\n",
      "2021-10-13 23:39:28,550  INFO: Удалена пустая родительская папка: /home/rodion/VIDEOREPO/00/0100-01-00\n",
      "2021-10-13 23:39:28,551  INFO: Удалена папка с записями: /home/rodion/VIDEOREPO/10/1010-01-00/10\n",
      "2021-10-13 23:39:28,552  INFO: Удалена пустая родительская папка: /home/rodion/VIDEOREPO/10/1010-01-00\n",
      "2021-10-13 23:39:28,553  INFO: Удалена папка с записями: /home/rodion/VIDEOREPO/00/1110-00-00/10\n",
      "2021-10-13 23:39:28,554  INFO: Удалена пустая родительская папка: /home/rodion/VIDEOREPO/00/1110-00-00\n",
      "2021-10-13 23:39:28,555  INFO: Удалена папка с записями: /home/rodion/VIDEOREPO/01/0100-01-00/11\n",
      "2021-10-13 23:39:28,556  INFO: Удалена пустая родительская папка: /home/rodion/VIDEOREPO/01/0100-01-00\n",
      "2021-10-13 23:39:28,556  INFO: Удалена папка с записями: /home/rodion/VIDEOREPO/01/0000-01-00/11\n",
      "2021-10-13 23:39:28,557  INFO: Удалена пустая родительская папка: /home/rodion/VIDEOREPO/01/0000-01-00\n",
      "2021-10-13 23:39:28,558  INFO: Удалена папка с записями: /home/rodion/VIDEOREPO/11/1011-00-10/11\n",
      "2021-10-13 23:39:28,558  INFO: Удалена пустая родительская папка: /home/rodion/VIDEOREPO/11/1011-00-10\n",
      "2021-10-13 23:39:28,559  INFO: Удалена папка с записями: /home/rodion/VIDEOREPO/01/1010-10-11/11\n",
      "2021-10-13 23:39:28,560  INFO: Удалена пустая родительская папка: /home/rodion/VIDEOREPO/01/1010-10-11\n",
      "2021-10-13 23:39:28,560  WARNING: Очистка завершена, однако не было освобождено достаточно памяти - она потенциально занята чем-то другим\n",
      "2021-10-13 23:39:28,561  INFO: Очистка закончена\n",
      "2021-10-13 23:39:28,561  INFO: Свободно 13.5% памяти\n",
      "2021-10-13 23:39:28,562  INFO: Скрипт завершен\n"
     ]
    }
   ],
   "source": [
    "if __name__ == '__main__':\n",
    "    try:\n",
    "        main()\n",
    "    except Exception as e:\n",
    "        logger.exception(\"Произошлая ошибка: \", exc_info=e)"
   ]
  },
  {
   "cell_type": "markdown",
   "id": "3f29d37d",
   "metadata": {},
   "source": [
    "## Тестирование"
   ]
  },
  {
   "cell_type": "code",
   "execution_count": 6,
   "id": "3e6fe9cb",
   "metadata": {
    "ExecuteTime": {
     "end_time": "2021-10-13T18:35:01.913019Z",
     "start_time": "2021-10-13T18:35:01.881788Z"
    }
   },
   "outputs": [
    {
     "name": "stdout",
     "output_type": "stream",
     "text": [
      "/home/rodion/VIDEOREPO/01/0010-11-10/00\n",
      "/home/rodion/VIDEOREPO/01/0000-01-00/11\n",
      "/home/rodion/VIDEOREPO/00/0000-11-01/00\n",
      "/home/rodion/VIDEOREPO/01/1010-10-11/11\n",
      "/home/rodion/VIDEOREPO/01/0001-00-01/00\n",
      "/home/rodion/VIDEOREPO/11/1000-01-10/10\n",
      "/home/rodion/VIDEOREPO/11/1100-11-10/10\n",
      "/home/rodion/VIDEOREPO/11/1011-00-10/11\n",
      "/home/rodion/VIDEOREPO/00/0100-01-00/10\n",
      "/home/rodion/VIDEOREPO/01/1010-01-11/00\n",
      "/home/rodion/VIDEOREPO/00/0010-00-01/00\n",
      "/home/rodion/VIDEOREPO/01/0100-01-00/11\n",
      "/home/rodion/VIDEOREPO/10/0000-01-10/01\n",
      "/home/rodion/VIDEOREPO/00/1110-00-00/10\n",
      "/home/rodion/VIDEOREPO/01/0000-10-01/00\n",
      "/home/rodion/VIDEOREPO/00/0001-11-10/00\n",
      "/home/rodion/VIDEOREPO/01/1101-11-11/10\n",
      "/home/rodion/VIDEOREPO/01/0101-10-00/00\n",
      "/home/rodion/VIDEOREPO/10/1010-01-00/10\n",
      "/home/rodion/VIDEOREPO/01/0011-01-00/00\n"
     ]
    }
   ],
   "source": [
    "def get_rand_digits(size: int) -> list[int]:\n",
    "    from random import randint\n",
    "    return [randint(0, 1) for _ in range(size)]\n",
    "\n",
    "workdir = Path(WORKDIR)\n",
    "\n",
    "for i in range(20):\n",
    "    digits = ''.join(map(str, get_rand_digits(12)))\n",
    "    directory = workdir / digits[:2] / f\"{digits[2:6]}-{digits[6:8]}-{digits[8:10]}\" / digits[10:]\n",
    "    print(directory)\n",
    "    os.makedirs(directory)"
   ]
  }
 ],
 "metadata": {
  "kernelspec": {
   "display_name": "Python 3 (ipykernel)",
   "language": "python",
   "name": "python3"
  },
  "language_info": {
   "codemirror_mode": {
    "name": "ipython",
    "version": 3
   },
   "file_extension": ".py",
   "mimetype": "text/x-python",
   "name": "python",
   "nbconvert_exporter": "python",
   "pygments_lexer": "ipython3",
   "version": "3.9.6"
  },
  "varInspector": {
   "cols": {
    "lenName": 16,
    "lenType": 16,
    "lenVar": 40
   },
   "kernels_config": {
    "python": {
     "delete_cmd_postfix": "",
     "delete_cmd_prefix": "del ",
     "library": "var_list.py",
     "varRefreshCmd": "print(var_dic_list())"
    },
    "r": {
     "delete_cmd_postfix": ") ",
     "delete_cmd_prefix": "rm(",
     "library": "var_list.r",
     "varRefreshCmd": "cat(var_dic_list()) "
    }
   },
   "types_to_exclude": [
    "module",
    "function",
    "builtin_function_or_method",
    "instance",
    "_Feature"
   ],
   "window_display": false
  }
 },
 "nbformat": 4,
 "nbformat_minor": 5
}
